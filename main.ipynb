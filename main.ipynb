{
 "cells": [
  {
   "cell_type": "code",
   "execution_count": 2,
   "metadata": {},
   "outputs": [
    {
     "name": "stdout",
     "output_type": "stream",
     "text": [
      "Greedy algorithm result:\n",
      "[[1 0 0 0 1 1 0 0 0 1]\n",
      " [0 0 0 1 0 0 0 1 0 0]\n",
      " [0 1 1 0 0 0 1 0 1 0]]\n",
      "Max load: 4\n",
      "Hill climbing algorithm result:\n",
      "[[1 0 0 0 0 0 1 0 0 1]\n",
      " [0 0 0 1 1 0 0 1 0 0]\n",
      " [0 1 1 0 0 0 0 0 1 0]]\n",
      "Max load: 3\n",
      "Backtracking algorithm result:\n",
      "[[1 0 0 0 1 1 1 1 0 1]\n",
      " [0 0 0 1 0 0 0 0 0 0]\n",
      " [0 1 1 0 0 0 0 0 1 0]]\n",
      "Max load: 6\n"
     ]
    }
   ],
   "source": [
    "import numpy as np\n",
    "from utils import *\n",
    "from algorithms import *\n",
    "import os\n",
    "\n",
    "def main():\n",
    "    input_folder = \"input\"\n",
    "    output_folder = \"output\"\n",
    "    os.makedirs(output_folder, exist_ok=True)\n",
    "\n",
    "    input_file = os.path.join(input_folder, \"input.txt\")\n",
    "\n",
    "    m, n, preferences, conflicts = read_input(input_file)\n",
    "    A, B = create_matrix(m, n, preferences, conflicts)\n",
    "    result_greedy, load_greedy = greedy_algorithm(A, B)\n",
    "    result_hill, load_hill = hill_climbing(A, B)\n",
    "    result_back, load_back = backtracking_algorithm(A, B)\n",
    "\n",
    "    print(f\"Greedy algorithm result:\\n{result_greedy}\\nMax load: {load_greedy}\")\n",
    "    print(f\"Hill climbing algorithm result:\\n{result_hill}\\nMax load: {load_hill}\")\n",
    "    print(f\"Backtracking algorithm result:\\n{result_back}\\nMax load: {load_back}\")\n",
    "\n",
    "    # Write output files\n",
    "    write_output(result_greedy, os.path.join(output_folder, 'output_greedy.txt'))\n",
    "    write_output(result_hill, os.path.join(output_folder, 'output_hill.txt'))\n",
    "    write_output(result_back, os.path.join(output_folder, 'output_back.txt'))\n",
    "\n",
    "if __name__ == \"__main__\":\n",
    "    main()\n"
   ]
  }
 ],
 "metadata": {
  "kernelspec": {
   "display_name": "base",
   "language": "python",
   "name": "python3"
  },
  "language_info": {
   "codemirror_mode": {
    "name": "ipython",
    "version": 3
   },
   "file_extension": ".py",
   "mimetype": "text/x-python",
   "name": "python",
   "nbconvert_exporter": "python",
   "pygments_lexer": "ipython3",
   "version": "3.9.13"
  },
  "orig_nbformat": 4
 },
 "nbformat": 4,
 "nbformat_minor": 2
}
